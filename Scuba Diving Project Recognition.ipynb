{
 "cells": [
  {
   "cell_type": "markdown",
   "metadata": {
    "id": "GD9gUQpaBxNa"
   },
   "source": [
    "#  Scuba Diving Project Photos Recognition\n"
   ]
  },
  {
   "cell_type": "markdown",
   "metadata": {},
   "source": [
    "# 1. Install Requirements"
   ]
  },
  {
   "cell_type": "code",
   "execution_count": null,
   "metadata": {},
   "outputs": [],
   "source": [
    "# Download YOLOv7 repository and install requirements\n",
    "!git clone https://github.com/WongKinYiu/yolov7\n",
    "%cd yolov7\n",
    "!pip install -r requirements.txt"
   ]
  },
  {
   "cell_type": "markdown",
   "metadata": {},
   "source": [
    "# 2. Detect Fish From Photos"
   ]
  },
  {
   "cell_type": "code",
   "execution_count": 1,
   "metadata": {},
   "outputs": [
    {
     "name": "stdout",
     "output_type": "stream",
     "text": [
      "/Users/antonios/Desktop/Dissertation/Model/Scuba_Diving_Project/yolov7\n"
     ]
    }
   ],
   "source": [
    "%cd yolov7"
   ]
  },
  {
   "cell_type": "code",
   "execution_count": 2,
   "metadata": {
    "colab": {
     "base_uri": "https://localhost:8080/"
    },
    "id": "N4cfnLtTCIce",
    "outputId": "24d4e5c6-1685-4fc0-d0a5-1e78a601c606"
   },
   "outputs": [
    {
     "name": "stdout",
     "output_type": "stream",
     "text": [
      "Namespace(weights=['../trained_model/weights/best.pt'], source='../Detection_Files/images/', img_size=640, conf_thres=0.3, iou_thres=0.45, device='', view_img=False, save_txt=False, save_conf=False, nosave=False, classes=None, agnostic_nms=False, augment=False, update=False, project='runs/detect', name='exp', exist_ok=False, no_trace=False)\n",
      "YOLOR 🚀 v0.1-115-g072f76c torch 1.12.1 CPU\n",
      "\n",
      "Fusing layers... \n",
      "RepConv.fuse_repvgg_block\n",
      "RepConv.fuse_repvgg_block\n",
      "RepConv.fuse_repvgg_block\n",
      "IDetect.fuse\n",
      "/Users/antonios/Desktop/Dissertation/Model/Scuba_Diving_Project/scubadivingproject/lib/python3.10/site-packages/torch/functional.py:478: UserWarning: torch.meshgrid: in an upcoming release, it will be required to pass the indexing argument. (Triggered internally at  /Users/runner/work/pytorch/pytorch/pytorch/aten/src/ATen/native/TensorShape.cpp:2895.)\n",
      "  return _VF.meshgrid(tensors, **kwargs)  # type: ignore[attr-defined]\n",
      "Model Summary: 314 layers, 36503348 parameters, 6194944 gradients, 103.2 GFLOPS\n",
      " Convert model to Traced-model... \n",
      " traced_script_module saved! \n",
      " model is traced! \n",
      "\n",
      "4 coral-sponges, Done. (219.7ms) Inference, (1.0ms) NMS\n",
      " The image with the result is saved in: runs/detect/exp/20220604_STP003.jpg\n",
      "1 coral-sponge, Done. (172.5ms) Inference, (0.4ms) NMS\n",
      " The image with the result is saved in: runs/detect/exp/22TB-CORALS1-facebookJumbo.jpg\n",
      "1 CommonClownfish, Done. (245.4ms) Inference, (0.4ms) NMS\n",
      " The image with the result is saved in: runs/detect/exp/342px-Clownfish_(Papua_New_Guinea).jpg\n",
      "1 CommonClownfish, Done. (369.0ms) Inference, (0.3ms) NMS\n",
      " The image with the result is saved in: runs/detect/exp/Common_Clownfish_2973_jpg.rf.756cf93df162e024bf252ec633520445.jpg\n",
      "1 Dolphin, Done. (220.8ms) Inference, (0.3ms) NMS\n",
      " The image with the result is saved in: runs/detect/exp/Dolphin_1579_jpg.rf.88145ba68a6c747e9563c2d0f1ac5820.jpg\n",
      "1 CommonClownfish, Done. (191.4ms) Inference, (0.3ms) NMS\n",
      " The image with the result is saved in: runs/detect/exp/False-Percula-Clownfish_02.jpg\n",
      "1 coral-sponge, Done. (206.3ms) Inference, (0.3ms) NMS\n",
      " The image with the result is saved in: runs/detect/exp/MIT-coral-microbiome-01-press_1.jpg\n",
      "1 Dolphin, Done. (186.9ms) Inference, (0.3ms) NMS\n",
      " The image with the result is saved in: runs/detect/exp/atlantic-bottlenose-dolphin--jumping-high-during-a-dolphin-training-demonstration-154724035-59ce93949abed50011352530.jpg\n",
      "1 CommonClownfish, Done. (267.0ms) Inference, (0.3ms) NMS\n",
      " The image with the result is saved in: runs/detect/exp/caribbean-sea-mexico-diver-looking-at-soft-coral-reef-and-clown-fish-B4FRR0.jpg\n",
      "2 CommonClownfishs, 1 coral-sponge, Done. (201.0ms) Inference, (0.3ms) NMS\n",
      " The image with the result is saved in: runs/detect/exp/close-up-of-fish-swimming-in-aquarium-739292555-599373b29abed50010cb60f3.jpg\n",
      "2 coral-sponges, Done. (213.5ms) Inference, (0.3ms) NMS\n",
      " The image with the result is saved in: runs/detect/exp/colorful-coral-reef.jpg\n",
      "1 Dolphin, 1 turtle, Done. (210.6ms) Inference, (0.4ms) NMS\n",
      " The image with the result is saved in: runs/detect/exp/dolphin-underwater-meets-turtle-sand-background-looking-you-meeting-65665493.jpg\n",
      "1 trumpetfish, Done. (186.5ms) Inference, (0.3ms) NMS\n",
      " The image with the result is saved in: runs/detect/exp/maxresdefault-1.jpg\n",
      "5 CommonClownfishs, Done. (189.4ms) Inference, (0.4ms) NMS\n",
      " The image with the result is saved in: runs/detect/exp/maxresdefault.jpg\n",
      "1 trumpetfish, Done. (186.4ms) Inference, (0.4ms) NMS\n",
      " The image with the result is saved in: runs/detect/exp/trumpetfish_620.jpg\n",
      "1 turtle, Done. (184.9ms) Inference, (0.3ms) NMS\n",
      " The image with the result is saved in: runs/detect/exp/turtle_17570_jpg.rf.517df1bf2bbe391b5578755f2db0e256.jpg\n",
      "Done. (4.064s)\n"
     ]
    }
   ],
   "source": [
    "# set conf according to required confidence\n",
    "!python detect.py --weights ../trained_model/weights/best.pt --conf 0.3 --source ../Detection_Files/images/"
   ]
  },
  {
   "cell_type": "code",
   "execution_count": null,
   "metadata": {
    "colab": {
     "base_uri": "https://localhost:8080/",
     "height": 553
    },
    "id": "6AGhNOSSHY4_",
    "outputId": "fc393535-8666-445e-8a2f-1be9c7ba8d01",
    "scrolled": false
   },
   "outputs": [],
   "source": [
    "#display inference on ALL test images\n",
    "\n",
    "import glob\n",
    "from IPython.display import Image, display\n",
    "\n",
    "i = 0\n",
    "limit = 10000 # max images to print\n",
    "for imageName in glob.glob('../yolov7/runs/detect/exp2/*.jpg'): #assuming JPG\n",
    "    if i < limit:\n",
    "      display(Image(filename=imageName))\n",
    "      print(\"\\n\")\n",
    "    i = i + 1"
   ]
  },
  {
   "cell_type": "markdown",
   "metadata": {},
   "source": [
    "# 3. Detect Fish From Videos"
   ]
  },
  {
   "cell_type": "code",
   "execution_count": null,
   "metadata": {
    "scrolled": false
   },
   "outputs": [],
   "source": [
    "#Detect from video\n",
    "!python detect.py --weights ../trained_model/weights/best.pt --conf 0.25 --img-size 1280 --source ../Detection_Files/videos/test.mov --name test"
   ]
  }
 ],
 "metadata": {
  "accelerator": "GPU",
  "colab": {
   "collapsed_sections": [],
   "provenance": []
  },
  "kernelspec": {
   "display_name": "scubadivingproject",
   "language": "python",
   "name": "scubadivingproject"
  },
  "language_info": {
   "codemirror_mode": {
    "name": "ipython",
    "version": 3
   },
   "file_extension": ".py",
   "mimetype": "text/x-python",
   "name": "python",
   "nbconvert_exporter": "python",
   "pygments_lexer": "ipython3",
   "version": "3.10.7"
  }
 },
 "nbformat": 4,
 "nbformat_minor": 1
}
