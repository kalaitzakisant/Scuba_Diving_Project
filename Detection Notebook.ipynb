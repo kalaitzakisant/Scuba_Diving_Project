{
 "cells": [
  {
   "cell_type": "markdown",
   "metadata": {},
   "source": [
    "# Marine Animals' Detection Using Photographs or Video materials\n"
   ]
  },
  {
   "cell_type": "markdown",
   "metadata": {},
   "source": [
    "# 1. Create Paths (First time use only)"
   ]
  },
  {
   "cell_type": "code",
   "execution_count": 7,
   "metadata": {},
   "outputs": [],
   "source": [
    "import os\n",
    "PHOTOS = os.path.join('Detection_Files', 'photos')\n",
    "VIDEOS = os.path.join('Detection_Files', 'videos')\n",
    "MODEL = os.path.join('trained_model', 'weights')"
   ]
  },
  {
   "cell_type": "code",
   "execution_count": 8,
   "metadata": {},
   "outputs": [],
   "source": [
    "if not os.path.exists(PHOTOS):\n",
    "    if os.name == 'posix':\n",
    "        !mkdir -p {PHOTOS}\n",
    "    if os.name == 'nt':\n",
    "        !mkdir {PHOTOS}\n",
    "        \n",
    "if not os.path.exists(VIDEOS):\n",
    "    if os.name == 'posix':\n",
    "        !mkdir -p {VIDEOS}\n",
    "    if os.name == 'nt':\n",
    "        !mkdir {VIDEOS}\n",
    "        \n",
    "if not os.path.exists(MODEL):\n",
    "    if os.name == 'posix':\n",
    "        !mkdir -p {MODEL}\n",
    "    if os.name == 'nt':\n",
    "        !mkdir {MODEL}\n",
    "                   "
   ]
  },
  {
   "cell_type": "markdown",
   "metadata": {},
   "source": [
    "# 2. Transfer best.pt weight to /trained_model/weights/ (First time use only)"
   ]
  },
  {
   "cell_type": "markdown",
   "metadata": {
    "id": "GD9gUQpaBxNa"
   },
   "source": [
    "\n",
    "\n",
    "# 3. Install Requirements (First time use only)"
   ]
  },
  {
   "cell_type": "code",
   "execution_count": null,
   "metadata": {},
   "outputs": [],
   "source": [
    "# Download YOLOv7 repository and install requirements\n",
    "!git clone https://github.com/WongKinYiu/yolov7\n",
    "%cd yolov7\n",
    "!pip install -r requirements.txt"
   ]
  },
  {
   "cell_type": "markdown",
   "metadata": {},
   "source": [
    "# 4. Detect Marine Animals From Photographs"
   ]
  },
  {
   "cell_type": "code",
   "execution_count": null,
   "metadata": {},
   "outputs": [],
   "source": [
    "%cd yolov7"
   ]
  },
  {
   "cell_type": "code",
   "execution_count": null,
   "metadata": {
    "colab": {
     "base_uri": "https://localhost:8080/"
    },
    "id": "N4cfnLtTCIce",
    "outputId": "24d4e5c6-1685-4fc0-d0a5-1e78a601c606",
    "scrolled": true
   },
   "outputs": [],
   "source": [
    "#Detect using Photographs. Place photographs in /Detection_Files/photos/ path\n",
    "!python detect.py --weights ../trained_model/weights/best.pt --conf 0.2 --source ../Detection_Files/photos/"
   ]
  },
  {
   "cell_type": "code",
   "execution_count": null,
   "metadata": {
    "colab": {
     "base_uri": "https://localhost:8080/",
     "height": 553
    },
    "id": "6AGhNOSSHY4_",
    "outputId": "fc393535-8666-445e-8a2f-1be9c7ba8d01",
    "scrolled": true
   },
   "outputs": [],
   "source": [
    "#After running the detection code above, you may display the processed photographs running the code below!\n",
    "\n",
    "import glob\n",
    "from IPython.display import Image, display\n",
    "\n",
    "i = 0\n",
    "limit = 10000 # max images to print\n",
    "for imageName in glob.glob('../yolov7/runs/detect/exp/*.jpg'): #assuming it's in JPG format. Please change for different extensions\n",
    "    if i < limit:\n",
    "      display(Image(filename=imageName))\n",
    "      print(\"\\n\")\n",
    "    i = i + 1"
   ]
  },
  {
   "cell_type": "markdown",
   "metadata": {},
   "source": [
    "# 5. Detect Marine Animals From Videos"
   ]
  },
  {
   "cell_type": "code",
   "execution_count": null,
   "metadata": {
    "scrolled": false
   },
   "outputs": [],
   "source": [
    "#Detect using video. Place videos in /Detection_Files/videos/ path!\n",
    "!python detect.py --weights ../trained_model/weights/best.pt --conf 0.20 --img-size 1280 --source ../Detection_Files/videos/test.mov --name test"
   ]
  }
 ],
 "metadata": {
  "accelerator": "GPU",
  "colab": {
   "collapsed_sections": [],
   "provenance": []
  },
  "kernelspec": {
   "display_name": "scubadivingproject",
   "language": "python",
   "name": "scubadivingproject"
  },
  "language_info": {
   "codemirror_mode": {
    "name": "ipython",
    "version": 3
   },
   "file_extension": ".py",
   "mimetype": "text/x-python",
   "name": "python",
   "nbconvert_exporter": "python",
   "pygments_lexer": "ipython3",
   "version": "3.10.8"
  }
 },
 "nbformat": 4,
 "nbformat_minor": 1
}
