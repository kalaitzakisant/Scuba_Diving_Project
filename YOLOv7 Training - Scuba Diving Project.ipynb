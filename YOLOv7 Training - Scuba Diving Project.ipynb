{
 "cells": [
  {
   "cell_type": "markdown",
   "metadata": {
    "id": "7mGmQbAO5pQb"
   },
   "source": [
    "# 1. Install Requirements"
   ]
  },
  {
   "cell_type": "code",
   "execution_count": null,
   "metadata": {
    "id": "nD-uPyQ_2jiN"
   },
   "outputs": [],
   "source": [
    "# YOLOv7 and requirements\n",
    "!git clone https://github.com/WongKinYiu/yolov7\n",
    "%cd yolov7\n",
    "!pip install -r requirements.txt"
   ]
  },
  {
   "cell_type": "markdown",
   "metadata": {
    "id": "mtJ24mPlyF-S"
   },
   "source": [
    "# 2. Download Annotated Dataset https://universe.roboflow.com/computer-project/scuba-diving-project"
   ]
  },
  {
   "cell_type": "code",
   "execution_count": null,
   "metadata": {
    "id": "ovKgrVN8ygdW"
   },
   "outputs": [],
   "source": [
    "# Copy Dataset from Roboflow\n",
    "!pip install roboflow\n",
    "\n",
    "from roboflow import Roboflow\n",
    "rf = Roboflow(api_key=\"XXXXXX\") #api key removed for security reasons, please use own \n",
    "project = rf.workspace(\"computer-project\").project(\"scuba-diving-world\")\n",
    "dataset = project.version(1).download(\"yolov7\")"
   ]
  },
  {
   "cell_type": "markdown",
   "metadata": {
    "id": "bHfT9gEiBsBd"
   },
   "source": [
    "# 3. Model Training"
   ]
  },
  {
   "cell_type": "code",
   "execution_count": null,
   "metadata": {
    "id": "bUbmy674bhpD"
   },
   "outputs": [],
   "source": [
    "# YOLOv7 starting checkpoint\n",
    "%cd /content/yolov7\n",
    "!wget https://github.com/WongKinYiu/yolov7/releases/download/v0.1/yolov7_training.pt"
   ]
  },
  {
   "cell_type": "code",
   "execution_count": null,
   "metadata": {
    "id": "1iqOPKjr22mL"
   },
   "outputs": [],
   "source": [
    "# # Training Command - Change epochs to desired number\n",
    "%cd /content/yolov7\n",
    "!python train.py --batch 16 --epochs 60 --data {dataset.location}/data.yaml --weights 'yolov7_training.pt' --device 0 \n"
   ]
  },
  {
   "cell_type": "markdown",
   "metadata": {
    "id": "4jn4kCtgKiGO"
   },
   "source": [
    "# 4. Export (for Google Colab)\n"
   ]
  },
  {
   "cell_type": "code",
   "execution_count": null,
   "metadata": {
    "id": "wWOok8abrCsL"
   },
   "outputs": [],
   "source": [
    "#  zip to download weights and results locally\n",
    "\n",
    "!zip -r export.zip runs/detect\n",
    "!zip -r export.zip runs/train/exp/weights/best.pt\n",
    "!zip export.zip runs/train/exp/*"
   ]
  },
  {
   "cell_type": "markdown",
   "metadata": {},
   "source": [
    "# 5. Convert YOLOv7 weight to TFLite for Android App"
   ]
  },
  {
   "cell_type": "code",
   "execution_count": null,
   "metadata": {},
   "outputs": [],
   "source": [
    "!pip --quiet install onnx onnxruntime onnxsim\n",
    "!pip install onnx-tf"
   ]
  },
  {
   "cell_type": "code",
   "execution_count": null,
   "metadata": {},
   "outputs": [],
   "source": [
    "%cd /content/yolov7\n",
    "!python export.py --weights best.pt --grid --end2end --simplify \\\n",
    "--topk-all 100 --iou-thres 0.65 --conf-thres 0.35 --img-size 640 640 --max-wh 640"
   ]
  },
  {
   "cell_type": "code",
   "execution_count": null,
   "metadata": {},
   "outputs": [],
   "source": [
    "!onnx-tf convert -i /content/yolov7/best.onnx -o /content/"
   ]
  },
  {
   "cell_type": "code",
   "execution_count": null,
   "metadata": {},
   "outputs": [],
   "source": [
    "import cv2\n",
    "import time\n",
    "import requests\n",
    "import random\n",
    "import numpy as np\n",
    "import onnxruntime as ort\n",
    "from PIL import Image\n",
    "from pathlib import Path\n",
    "from collections import OrderedDict,namedtuple\n",
    "import tensorflow as tf\n",
    "import matplotlib.pyplot as plt"
   ]
  },
  {
   "cell_type": "code",
   "execution_count": null,
   "metadata": {},
   "outputs": [],
   "source": [
    "converter = tf.lite.TFLiteConverter.from_saved_model('/content/')\n",
    "tflite_model = converter.convert()\n",
    "\n",
    "with open('/content/yolov7_model.tflite', 'wb') as f:\n",
    "  f.write(tflite_model)# Colab - Convert YOLOv7 weight to TFLite for Android App"
   ]
  },
  {
   "cell_type": "markdown",
   "metadata": {},
   "source": [
    "# 6. Download the TFLite file from Google Colab"
   ]
  }
 ],
 "metadata": {
  "colab": {
   "collapsed_sections": [
    "7mGmQbAO5pQb",
    "mtJ24mPlyF-S",
    "0W0MpUaTCJro",
    "4jn4kCtgKiGO",
    "f41PvE5gKhYw"
   ],
   "provenance": []
  },
  "gpuClass": "premium",
  "kernelspec": {
   "display_name": "scubadivingproject",
   "language": "python",
   "name": "scubadivingproject"
  },
  "language_info": {
   "codemirror_mode": {
    "name": "ipython",
    "version": 3
   },
   "file_extension": ".py",
   "mimetype": "text/x-python",
   "name": "python",
   "nbconvert_exporter": "python",
   "pygments_lexer": "ipython3",
   "version": "3.10.8"
  }
 },
 "nbformat": 4,
 "nbformat_minor": 1
}
