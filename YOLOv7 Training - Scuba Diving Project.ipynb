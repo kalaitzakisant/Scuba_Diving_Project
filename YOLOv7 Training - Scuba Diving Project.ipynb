{
 "cells": [
  {
   "cell_type": "markdown",
   "metadata": {
    "id": "7mGmQbAO5pQb"
   },
   "source": [
    "# 1. Install Requirements"
   ]
  },
  {
   "cell_type": "code",
   "execution_count": 1,
   "metadata": {
    "id": "nD-uPyQ_2jiN"
   },
   "outputs": [
    {
     "name": "stdout",
     "output_type": "stream",
     "text": [
      "fatal: destination path 'yolov7' already exists and is not an empty directory.\n",
      "/Users/antonios/Desktop/Dissertation/Model/Scuba_Diving_Project/yolov7\n",
      "Collecting matplotlib>=3.2.2\n",
      "  Using cached matplotlib-3.6.1-cp310-cp310-macosx_11_0_arm64.whl (7.2 MB)\n",
      "Collecting numpy>=1.18.5\n",
      "  Downloading numpy-1.23.4-cp310-cp310-macosx_11_0_arm64.whl (13.3 MB)\n",
      "\u001b[2K     \u001b[90m━━━━━━━━━━━━━━━━━━━━━━━━━━━━━━━━━━━━━━━━\u001b[0m \u001b[32m13.3/13.3 MB\u001b[0m \u001b[31m40.8 MB/s\u001b[0m eta \u001b[36m0:00:00\u001b[0m00:01\u001b[0m00:01\u001b[0m\n",
      "\u001b[?25hCollecting opencv-python>=4.1.1\n",
      "  Using cached opencv_python-4.6.0.66-cp37-abi3-macosx_11_0_arm64.whl (30.0 MB)\n",
      "Collecting Pillow>=7.1.2\n",
      "  Using cached Pillow-9.2.0-cp310-cp310-macosx_11_0_arm64.whl (2.8 MB)\n",
      "Collecting PyYAML>=5.3.1\n",
      "  Using cached PyYAML-6.0-cp310-cp310-macosx_11_0_arm64.whl (173 kB)\n",
      "Collecting requests>=2.23.0\n",
      "  Using cached requests-2.28.1-py3-none-any.whl (62 kB)\n",
      "Collecting scipy>=1.4.1\n",
      "  Using cached scipy-1.9.2-cp310-cp310-macosx_12_0_arm64.whl (28.5 MB)\n",
      "Collecting torch!=1.12.0,>=1.7.0\n",
      "  Using cached torch-1.12.1-cp310-none-macosx_11_0_arm64.whl (49.1 MB)\n",
      "Collecting torchvision!=0.13.0,>=0.8.1\n",
      "  Using cached torchvision-0.13.1-cp310-cp310-macosx_11_0_arm64.whl (1.2 MB)\n",
      "Collecting tqdm>=4.41.0\n",
      "  Using cached tqdm-4.64.1-py2.py3-none-any.whl (78 kB)\n",
      "Collecting protobuf<4.21.3\n",
      "  Using cached protobuf-4.21.2-cp37-abi3-macosx_10_9_universal2.whl (483 kB)\n",
      "Collecting tensorboard>=2.4.1\n",
      "  Using cached tensorboard-2.10.1-py3-none-any.whl (5.9 MB)\n",
      "Collecting pandas>=1.1.4\n",
      "  Using cached pandas-1.5.0-cp310-cp310-macosx_11_0_arm64.whl (10.8 MB)\n",
      "Collecting seaborn>=0.11.0\n",
      "  Using cached seaborn-0.12.0-py3-none-any.whl (285 kB)\n",
      "Requirement already satisfied: ipython in /Users/antonios/Desktop/Dissertation/Model/Scuba_Diving_Project/scubadivingproject/lib/python3.10/site-packages (from -r requirements.txt (line 34)) (8.5.0)\n",
      "Requirement already satisfied: psutil in /Users/antonios/Desktop/Dissertation/Model/Scuba_Diving_Project/scubadivingproject/lib/python3.10/site-packages (from -r requirements.txt (line 35)) (5.9.2)\n",
      "Collecting thop\n",
      "  Using cached thop-0.1.1.post2209072238-py3-none-any.whl (15 kB)\n",
      "Requirement already satisfied: packaging>=20.0 in /Users/antonios/Desktop/Dissertation/Model/Scuba_Diving_Project/scubadivingproject/lib/python3.10/site-packages (from matplotlib>=3.2.2->-r requirements.txt (line 4)) (21.3)\n",
      "Collecting contourpy>=1.0.1\n",
      "  Using cached contourpy-1.0.5-cp310-cp310-macosx_11_0_arm64.whl (226 kB)\n",
      "Collecting cycler>=0.10\n",
      "  Using cached cycler-0.11.0-py3-none-any.whl (6.4 kB)\n",
      "Requirement already satisfied: python-dateutil>=2.7 in /Users/antonios/Desktop/Dissertation/Model/Scuba_Diving_Project/scubadivingproject/lib/python3.10/site-packages (from matplotlib>=3.2.2->-r requirements.txt (line 4)) (2.8.2)\n",
      "Collecting fonttools>=4.22.0\n",
      "  Using cached fonttools-4.37.4-py3-none-any.whl (960 kB)\n",
      "Collecting kiwisolver>=1.0.1\n",
      "  Using cached kiwisolver-1.4.4-cp310-cp310-macosx_11_0_arm64.whl (63 kB)\n",
      "Requirement already satisfied: pyparsing>=2.2.1 in /Users/antonios/Desktop/Dissertation/Model/Scuba_Diving_Project/scubadivingproject/lib/python3.10/site-packages (from matplotlib>=3.2.2->-r requirements.txt (line 4)) (3.0.9)\n",
      "Collecting certifi>=2017.4.17\n",
      "  Using cached certifi-2022.9.24-py3-none-any.whl (161 kB)\n",
      "Collecting charset-normalizer<3,>=2\n",
      "  Using cached charset_normalizer-2.1.1-py3-none-any.whl (39 kB)\n",
      "Requirement already satisfied: idna<4,>=2.5 in /Users/antonios/Desktop/Dissertation/Model/Scuba_Diving_Project/scubadivingproject/lib/python3.10/site-packages (from requests>=2.23.0->-r requirements.txt (line 9)) (3.4)\n",
      "Collecting urllib3<1.27,>=1.21.1\n",
      "  Using cached urllib3-1.26.12-py2.py3-none-any.whl (140 kB)\n",
      "Collecting typing-extensions\n",
      "  Using cached typing_extensions-4.4.0-py3-none-any.whl (26 kB)\n",
      "Collecting tensorboard-data-server<0.7.0,>=0.6.0\n",
      "  Using cached tensorboard_data_server-0.6.1-py3-none-any.whl (2.4 kB)\n",
      "Collecting google-auth<3,>=1.6.3\n",
      "  Using cached google_auth-2.12.0-py2.py3-none-any.whl (169 kB)\n",
      "Collecting markdown>=2.6.8\n",
      "  Using cached Markdown-3.4.1-py3-none-any.whl (93 kB)\n",
      "Collecting protobuf<4.21.3\n",
      "  Using cached protobuf-3.19.6-py2.py3-none-any.whl (162 kB)\n",
      "Collecting absl-py>=0.4\n",
      "  Using cached absl_py-1.2.0-py3-none-any.whl (123 kB)\n",
      "Requirement already satisfied: setuptools>=41.0.0 in /Users/antonios/Desktop/Dissertation/Model/Scuba_Diving_Project/scubadivingproject/lib/python3.10/site-packages (from tensorboard>=2.4.1->-r requirements.txt (line 17)) (65.3.0)\n",
      "Collecting werkzeug>=1.0.1\n",
      "  Using cached Werkzeug-2.2.2-py3-none-any.whl (232 kB)\n",
      "Collecting wheel>=0.26\n",
      "  Using cached wheel-0.37.1-py2.py3-none-any.whl (35 kB)\n",
      "Collecting tensorboard-plugin-wit>=1.6.0\n",
      "  Using cached tensorboard_plugin_wit-1.8.1-py3-none-any.whl (781 kB)\n",
      "Collecting grpcio>=1.24.3\n",
      "  Using cached grpcio-1.49.1-cp310-cp310-macosx_11_0_arm64.whl\n",
      "Collecting google-auth-oauthlib<0.5,>=0.4.1\n",
      "  Using cached google_auth_oauthlib-0.4.6-py2.py3-none-any.whl (18 kB)\n",
      "Collecting pytz>=2020.1\n",
      "  Using cached pytz-2022.4-py2.py3-none-any.whl (500 kB)\n",
      "Requirement already satisfied: matplotlib-inline in /Users/antonios/Desktop/Dissertation/Model/Scuba_Diving_Project/scubadivingproject/lib/python3.10/site-packages (from ipython->-r requirements.txt (line 34)) (0.1.6)\n",
      "Requirement already satisfied: backcall in /Users/antonios/Desktop/Dissertation/Model/Scuba_Diving_Project/scubadivingproject/lib/python3.10/site-packages (from ipython->-r requirements.txt (line 34)) (0.2.0)\n",
      "Requirement already satisfied: jedi>=0.16 in /Users/antonios/Desktop/Dissertation/Model/Scuba_Diving_Project/scubadivingproject/lib/python3.10/site-packages (from ipython->-r requirements.txt (line 34)) (0.18.1)\n",
      "Requirement already satisfied: pickleshare in /Users/antonios/Desktop/Dissertation/Model/Scuba_Diving_Project/scubadivingproject/lib/python3.10/site-packages (from ipython->-r requirements.txt (line 34)) (0.7.5)\n",
      "Requirement already satisfied: pygments>=2.4.0 in /Users/antonios/Desktop/Dissertation/Model/Scuba_Diving_Project/scubadivingproject/lib/python3.10/site-packages (from ipython->-r requirements.txt (line 34)) (2.13.0)\n",
      "Requirement already satisfied: traitlets>=5 in /Users/antonios/Desktop/Dissertation/Model/Scuba_Diving_Project/scubadivingproject/lib/python3.10/site-packages (from ipython->-r requirements.txt (line 34)) (5.4.0)\n",
      "Requirement already satisfied: pexpect>4.3 in /Users/antonios/Desktop/Dissertation/Model/Scuba_Diving_Project/scubadivingproject/lib/python3.10/site-packages (from ipython->-r requirements.txt (line 34)) (4.8.0)\n",
      "Requirement already satisfied: stack-data in /Users/antonios/Desktop/Dissertation/Model/Scuba_Diving_Project/scubadivingproject/lib/python3.10/site-packages (from ipython->-r requirements.txt (line 34)) (0.5.1)\n",
      "Requirement already satisfied: prompt-toolkit<3.1.0,>3.0.1 in /Users/antonios/Desktop/Dissertation/Model/Scuba_Diving_Project/scubadivingproject/lib/python3.10/site-packages (from ipython->-r requirements.txt (line 34)) (3.0.31)\n",
      "Requirement already satisfied: appnope in /Users/antonios/Desktop/Dissertation/Model/Scuba_Diving_Project/scubadivingproject/lib/python3.10/site-packages (from ipython->-r requirements.txt (line 34)) (0.1.3)\n",
      "Requirement already satisfied: decorator in /Users/antonios/Desktop/Dissertation/Model/Scuba_Diving_Project/scubadivingproject/lib/python3.10/site-packages (from ipython->-r requirements.txt (line 34)) (5.1.1)\n",
      "Collecting pyasn1-modules>=0.2.1\n",
      "  Using cached pyasn1_modules-0.2.8-py2.py3-none-any.whl (155 kB)\n",
      "Requirement already satisfied: six>=1.9.0 in /Users/antonios/Desktop/Dissertation/Model/Scuba_Diving_Project/scubadivingproject/lib/python3.10/site-packages (from google-auth<3,>=1.6.3->tensorboard>=2.4.1->-r requirements.txt (line 17)) (1.16.0)\n",
      "Collecting rsa<5,>=3.1.4\n",
      "  Using cached rsa-4.9-py3-none-any.whl (34 kB)\n",
      "Collecting cachetools<6.0,>=2.0.0\n",
      "  Using cached cachetools-5.2.0-py3-none-any.whl (9.3 kB)\n",
      "Collecting requests-oauthlib>=0.7.0\n",
      "  Using cached requests_oauthlib-1.3.1-py2.py3-none-any.whl (23 kB)\n",
      "Requirement already satisfied: parso<0.9.0,>=0.8.0 in /Users/antonios/Desktop/Dissertation/Model/Scuba_Diving_Project/scubadivingproject/lib/python3.10/site-packages (from jedi>=0.16->ipython->-r requirements.txt (line 34)) (0.8.3)\n",
      "Requirement already satisfied: ptyprocess>=0.5 in /Users/antonios/Desktop/Dissertation/Model/Scuba_Diving_Project/scubadivingproject/lib/python3.10/site-packages (from pexpect>4.3->ipython->-r requirements.txt (line 34)) (0.7.0)\n",
      "Requirement already satisfied: wcwidth in /Users/antonios/Desktop/Dissertation/Model/Scuba_Diving_Project/scubadivingproject/lib/python3.10/site-packages (from prompt-toolkit<3.1.0,>3.0.1->ipython->-r requirements.txt (line 34)) (0.2.5)\n"
     ]
    },
    {
     "name": "stdout",
     "output_type": "stream",
     "text": [
      "Requirement already satisfied: MarkupSafe>=2.1.1 in /Users/antonios/Desktop/Dissertation/Model/Scuba_Diving_Project/scubadivingproject/lib/python3.10/site-packages (from werkzeug>=1.0.1->tensorboard>=2.4.1->-r requirements.txt (line 17)) (2.1.1)\n",
      "Requirement already satisfied: asttokens in /Users/antonios/Desktop/Dissertation/Model/Scuba_Diving_Project/scubadivingproject/lib/python3.10/site-packages (from stack-data->ipython->-r requirements.txt (line 34)) (2.0.8)\n",
      "Requirement already satisfied: executing in /Users/antonios/Desktop/Dissertation/Model/Scuba_Diving_Project/scubadivingproject/lib/python3.10/site-packages (from stack-data->ipython->-r requirements.txt (line 34)) (1.1.1)\n",
      "Requirement already satisfied: pure-eval in /Users/antonios/Desktop/Dissertation/Model/Scuba_Diving_Project/scubadivingproject/lib/python3.10/site-packages (from stack-data->ipython->-r requirements.txt (line 34)) (0.2.2)\n",
      "Collecting pyasn1<0.5.0,>=0.4.6\n",
      "  Using cached pyasn1-0.4.8-py2.py3-none-any.whl (77 kB)\n",
      "Collecting oauthlib>=3.0.0\n",
      "  Using cached oauthlib-3.2.1-py3-none-any.whl (151 kB)\n",
      "Installing collected packages: tensorboard-plugin-wit, pytz, pyasn1, wheel, werkzeug, urllib3, typing-extensions, tqdm, tensorboard-data-server, rsa, PyYAML, pyasn1-modules, protobuf, Pillow, oauthlib, numpy, markdown, kiwisolver, grpcio, fonttools, cycler, charset-normalizer, certifi, cachetools, absl-py, torch, scipy, requests, pandas, opencv-python, google-auth, contourpy, torchvision, thop, requests-oauthlib, matplotlib, seaborn, google-auth-oauthlib, tensorboard\n",
      "Successfully installed Pillow-9.2.0 PyYAML-6.0 absl-py-1.2.0 cachetools-5.2.0 certifi-2022.9.24 charset-normalizer-2.1.1 contourpy-1.0.5 cycler-0.11.0 fonttools-4.37.4 google-auth-2.12.0 google-auth-oauthlib-0.4.6 grpcio-1.49.1 kiwisolver-1.4.4 markdown-3.4.1 matplotlib-3.6.1 numpy-1.23.4 oauthlib-3.2.1 opencv-python-4.6.0.66 pandas-1.5.0 protobuf-3.19.6 pyasn1-0.4.8 pyasn1-modules-0.2.8 pytz-2022.4 requests-2.28.1 requests-oauthlib-1.3.1 rsa-4.9 scipy-1.9.2 seaborn-0.12.0 tensorboard-2.10.1 tensorboard-data-server-0.6.1 tensorboard-plugin-wit-1.8.1 thop-0.1.1.post2209072238 torch-1.12.1 torchvision-0.13.1 tqdm-4.64.1 typing-extensions-4.4.0 urllib3-1.26.12 werkzeug-2.2.2 wheel-0.37.1\n"
     ]
    }
   ],
   "source": [
    "# YOLOv7 and requirements\n",
    "!git clone https://github.com/WongKinYiu/yolov7\n",
    "%cd yolov7\n",
    "!pip install -r requirements.txt"
   ]
  },
  {
   "cell_type": "markdown",
   "metadata": {
    "id": "mtJ24mPlyF-S"
   },
   "source": [
    "# 2. Download Annotated Dataset"
   ]
  },
  {
   "cell_type": "code",
   "execution_count": null,
   "metadata": {
    "id": "ovKgrVN8ygdW"
   },
   "outputs": [],
   "source": [
    "# Copy from Roboflow\n",
    "!pip install roboflow\n",
    "\n",
    "from roboflow import Roboflow\n",
    "rf = Roboflow(api_key=\"CCByhgZhC987VAUFU6rg\")\n",
    "project = rf.workspace(\"computer-project\").project(\"scuba-diving-world\")\n",
    "dataset = project.version(1).download(\"yolov7\")"
   ]
  },
  {
   "cell_type": "code",
   "execution_count": null,
   "metadata": {
    "id": "VaOQgYoMo3oW"
   },
   "outputs": [],
   "source": [
    "# Training Command\n",
    "%cd /content/yolov7\n",
    "!python train.py --batch 16 --epochs 50 --data {dataset.location}/data.yaml --weights 'yolov7_training.pt' --device 0 "
   ]
  },
  {
   "cell_type": "markdown",
   "metadata": {
    "id": "bHfT9gEiBsBd"
   },
   "source": [
    "# 3. Model Training"
   ]
  },
  {
   "cell_type": "code",
   "execution_count": null,
   "metadata": {
    "id": "bUbmy674bhpD"
   },
   "outputs": [],
   "source": [
    "# COCO starting checkpoint\n",
    "%cd /content/yolov7\n",
    "!wget https://github.com/WongKinYiu/yolov7/releases/download/v0.1/yolov7_training.pt"
   ]
  },
  {
   "cell_type": "code",
   "execution_count": null,
   "metadata": {
    "id": "1iqOPKjr22mL"
   },
   "outputs": [],
   "source": [
    "# Training Code\n",
    "%cd /content/yolov7\n",
    "!python train.py --batch 16 --epochs 30 --data {dataset.location}/data.yaml --weights 'yolov7_training.pt' --device 0 \n"
   ]
  },
  {
   "cell_type": "markdown",
   "metadata": {
    "id": "4jn4kCtgKiGO"
   },
   "source": [
    "# 4. Export\n"
   ]
  },
  {
   "cell_type": "code",
   "execution_count": null,
   "metadata": {
    "id": "wWOok8abrCsL"
   },
   "outputs": [],
   "source": [
    "#  zip to download weights and results locally\n",
    "\n",
    "!zip -r export.zip runs/detect\n",
    "!zip -r export.zip runs/train/exp/weights/best.pt\n",
    "!zip export.zip runs/train/exp/*"
   ]
  },
  {
   "cell_type": "markdown",
   "metadata": {},
   "source": [
    "# 5. Convert YOLOv7 weight to TFLite for Android App"
   ]
  },
  {
   "cell_type": "code",
   "execution_count": null,
   "metadata": {},
   "outputs": [],
   "source": [
    "!pip --quiet install onnx onnxruntime onnxsim\n",
    "!pip install onnx-tf"
   ]
  },
  {
   "cell_type": "code",
   "execution_count": null,
   "metadata": {},
   "outputs": [],
   "source": [
    "%cd /content/yolov7\n",
    "!python export.py --weights best.pt --grid --end2end --simplify \\\n",
    "--topk-all 100 --iou-thres 0.65 --conf-thres 0.35 --img-size 640 640 --max-wh 640"
   ]
  },
  {
   "cell_type": "code",
   "execution_count": null,
   "metadata": {},
   "outputs": [],
   "source": [
    "!onnx-tf convert -i /content/yolov7/best.onnx -o /content/"
   ]
  },
  {
   "cell_type": "code",
   "execution_count": null,
   "metadata": {},
   "outputs": [],
   "source": [
    "import cv2\n",
    "import time\n",
    "import requests\n",
    "import random\n",
    "import numpy as np\n",
    "import onnxruntime as ort\n",
    "from PIL import Image\n",
    "from pathlib import Path\n",
    "from collections import OrderedDict,namedtuple\n",
    "import tensorflow as tf\n",
    "import matplotlib.pyplot as plt"
   ]
  },
  {
   "cell_type": "code",
   "execution_count": null,
   "metadata": {},
   "outputs": [],
   "source": [
    "converter = tf.lite.TFLiteConverter.from_saved_model('/content/')\n",
    "tflite_model = converter.convert()\n",
    "\n",
    "with open('/content/yolov7_model.tflite', 'wb') as f:\n",
    "  f.write(tflite_model)# Colab - Convert YOLOv7 weight to TFLite for Android App"
   ]
  },
  {
   "cell_type": "markdown",
   "metadata": {},
   "source": [
    "# 6. Download the TFLite"
   ]
  }
 ],
 "metadata": {
  "colab": {
   "collapsed_sections": [
    "7mGmQbAO5pQb",
    "mtJ24mPlyF-S",
    "0W0MpUaTCJro",
    "4jn4kCtgKiGO",
    "f41PvE5gKhYw"
   ],
   "provenance": []
  },
  "gpuClass": "premium",
  "kernelspec": {
   "display_name": "scubadivingproject",
   "language": "python",
   "name": "scubadivingproject"
  },
  "language_info": {
   "codemirror_mode": {
    "name": "ipython",
    "version": 3
   },
   "file_extension": ".py",
   "mimetype": "text/x-python",
   "name": "python",
   "nbconvert_exporter": "python",
   "pygments_lexer": "ipython3",
   "version": "3.10.7"
  }
 },
 "nbformat": 4,
 "nbformat_minor": 1
}
