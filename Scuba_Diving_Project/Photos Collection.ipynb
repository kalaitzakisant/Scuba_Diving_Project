{
 "cells": [
  {
   "cell_type": "markdown",
   "metadata": {},
   "source": [
    "# 1. Requirements"
   ]
  },
  {
   "cell_type": "code",
   "execution_count": null,
   "metadata": {},
   "outputs": [],
   "source": [
    "!pip install opencv-python"
   ]
  },
  {
   "cell_type": "code",
   "execution_count": 1,
   "metadata": {},
   "outputs": [],
   "source": [
    "import cv2 \n",
    "import uuid\n",
    "import os\n",
    "import time"
   ]
  },
  {
   "cell_type": "markdown",
   "metadata": {},
   "source": [
    "# 2. Labels"
   ]
  },
  {
   "cell_type": "code",
   "execution_count": 2,
   "metadata": {},
   "outputs": [],
   "source": [
    "labels = ['CommonClownfish','turtle','dolphin','coral-sponge','trumpetfish']  #fish_category\n",
    "number_imgs = 8500"
   ]
  },
  {
   "cell_type": "markdown",
   "metadata": {},
   "source": [
    "# 3. Create Path "
   ]
  },
  {
   "cell_type": "code",
   "execution_count": 3,
   "metadata": {},
   "outputs": [],
   "source": [
    "IMAGES = os.path.join('Tensorflow', 'model', 'photos', 'collectedphotos')"
   ]
  },
  {
   "cell_type": "code",
   "execution_count": 4,
   "metadata": {},
   "outputs": [],
   "source": [
    "if not os.path.exists(IMAGES):\n",
    "    if os.name == 'posix':\n",
    "        !mkdir -p {IMAGES}\n",
    "    if os.name == 'nt':\n",
    "         !mkdir {IMAGES}\n",
    "for label in labels:\n",
    "    path = os.path.join(IMAGES, label)\n",
    "    if not os.path.exists(path):\n",
    "        !mkdir {path}"
   ]
  },
  {
   "cell_type": "markdown",
   "metadata": {},
   "source": [
    "# 4. Label Photos with labelImg"
   ]
  },
  {
   "cell_type": "code",
   "execution_count": 5,
   "metadata": {
    "scrolled": true
   },
   "outputs": [
    {
     "name": "stdout",
     "output_type": "stream",
     "text": [
      "Collecting pyqt5\n",
      "  Using cached PyQt5-5.15.7.tar.gz (3.2 MB)\n",
      "  Installing build dependencies ... \u001b[?25ldone\n",
      "\u001b[?25h  Getting requirements to build wheel ... \u001b[?25ldone\n",
      "\u001b[?25h  Preparing metadata (pyproject.toml) ... \u001b[?25lerror\n",
      "  \u001b[1;31merror\u001b[0m: \u001b[1msubprocess-exited-with-error\u001b[0m\n",
      "  \n",
      "  \u001b[31m×\u001b[0m \u001b[32mPreparing metadata \u001b[0m\u001b[1;32m(\u001b[0m\u001b[32mpyproject.toml\u001b[0m\u001b[1;32m)\u001b[0m did not run successfully.\n",
      "  \u001b[31m│\u001b[0m exit code: \u001b[1;36m1\u001b[0m\n",
      "  \u001b[31m╰─>\u001b[0m \u001b[31m[24 lines of output]\u001b[0m\n",
      "  \u001b[31m   \u001b[0m Querying qmake about your Qt installation...\n",
      "  \u001b[31m   \u001b[0m Traceback (most recent call last):\n",
      "  \u001b[31m   \u001b[0m   File \"/Users/antonios/Desktop/Dissertation/Model/Scuba_Diving_Project/scubadivingproject/lib/python3.10/site-packages/pip/_vendor/pep517/in_process/_in_process.py\", line 156, in prepare_metadata_for_build_wheel\n",
      "  \u001b[31m   \u001b[0m     hook = backend.prepare_metadata_for_build_wheel\n",
      "  \u001b[31m   \u001b[0m AttributeError: module 'sipbuild.api' has no attribute 'prepare_metadata_for_build_wheel'\n",
      "  \u001b[31m   \u001b[0m \n",
      "  \u001b[31m   \u001b[0m During handling of the above exception, another exception occurred:\n",
      "  \u001b[31m   \u001b[0m \n",
      "  \u001b[31m   \u001b[0m Traceback (most recent call last):\n",
      "  \u001b[31m   \u001b[0m   File \"/Users/antonios/Desktop/Dissertation/Model/Scuba_Diving_Project/scubadivingproject/lib/python3.10/site-packages/pip/_vendor/pep517/in_process/_in_process.py\", line 363, in <module>\n",
      "  \u001b[31m   \u001b[0m     main()\n",
      "  \u001b[31m   \u001b[0m   File \"/Users/antonios/Desktop/Dissertation/Model/Scuba_Diving_Project/scubadivingproject/lib/python3.10/site-packages/pip/_vendor/pep517/in_process/_in_process.py\", line 345, in main\n",
      "  \u001b[31m   \u001b[0m     json_out['return_val'] = hook(**hook_input['kwargs'])\n",
      "  \u001b[31m   \u001b[0m   File \"/Users/antonios/Desktop/Dissertation/Model/Scuba_Diving_Project/scubadivingproject/lib/python3.10/site-packages/pip/_vendor/pep517/in_process/_in_process.py\", line 160, in prepare_metadata_for_build_wheel\n",
      "  \u001b[31m   \u001b[0m     whl_basename = backend.build_wheel(metadata_directory, config_settings)\n",
      "  \u001b[31m   \u001b[0m   File \"/private/var/folders/tt/s2rl86_959vcnjkbhqhplv0m0000gn/T/pip-build-env-mf8hwx4r/overlay/lib/python3.10/site-packages/sipbuild/api.py\", line 46, in build_wheel\n",
      "  \u001b[31m   \u001b[0m     project = AbstractProject.bootstrap('wheel',\n",
      "  \u001b[31m   \u001b[0m   File \"/private/var/folders/tt/s2rl86_959vcnjkbhqhplv0m0000gn/T/pip-build-env-mf8hwx4r/overlay/lib/python3.10/site-packages/sipbuild/abstract_project.py\", line 87, in bootstrap\n",
      "  \u001b[31m   \u001b[0m     project.setup(pyproject, tool, tool_description)\n",
      "  \u001b[31m   \u001b[0m   File \"/private/var/folders/tt/s2rl86_959vcnjkbhqhplv0m0000gn/T/pip-build-env-mf8hwx4r/overlay/lib/python3.10/site-packages/sipbuild/project.py\", line 601, in setup\n",
      "  \u001b[31m   \u001b[0m     self.update(tool)\n",
      "  \u001b[31m   \u001b[0m   File \"/private/var/folders/tt/s2rl86_959vcnjkbhqhplv0m0000gn/T/pip-install-s96mw3y0/pyqt5_5770c152ec144c8784cc20f549cd38fc/project.py\", line 166, in update\n",
      "  \u001b[31m   \u001b[0m     raise UserException(\n",
      "  \u001b[31m   \u001b[0m sipbuild.exceptions.UserException\n",
      "  \u001b[31m   \u001b[0m \u001b[31m[end of output]\u001b[0m\n",
      "  \n",
      "  \u001b[1;35mnote\u001b[0m: This error originates from a subprocess, and is likely not a problem with pip.\n",
      "\u001b[1;31merror\u001b[0m: \u001b[1mmetadata-generation-failed\u001b[0m\n",
      "\n",
      "\u001b[31m×\u001b[0m Encountered error while generating package metadata.\n",
      "\u001b[31m╰─>\u001b[0m See above for output.\n",
      "\n",
      "\u001b[1;35mnote\u001b[0m: This is an issue with the package mentioned above, not pip.\n",
      "\u001b[1;36mhint\u001b[0m: See above for details.\n",
      "\n",
      "\u001b[1m[\u001b[0m\u001b[34;49mnotice\u001b[0m\u001b[1;39;49m]\u001b[0m\u001b[39;49m A new release of pip available: \u001b[0m\u001b[31;49m22.2.2\u001b[0m\u001b[39;49m -> \u001b[0m\u001b[32;49m22.3\u001b[0m\n",
      "\u001b[1m[\u001b[0m\u001b[34;49mnotice\u001b[0m\u001b[1;39;49m]\u001b[0m\u001b[39;49m To update, run: \u001b[0m\u001b[32;49mpip install --upgrade pip\u001b[0m\n",
      "\u001b[?25h"
     ]
    }
   ],
   "source": [
    "!pip install --upgrade pyqt5 lxml"
   ]
  },
  {
   "cell_type": "code",
   "execution_count": 6,
   "metadata": {},
   "outputs": [],
   "source": [
    "LABELIMG = os.path.join('Tensorflow', 'labelimg')"
   ]
  },
  {
   "cell_type": "code",
   "execution_count": 7,
   "metadata": {},
   "outputs": [
    {
     "name": "stdout",
     "output_type": "stream",
     "text": [
      "Cloning into 'Tensorflow/labelimg'...\n",
      "remote: Enumerating objects: 2097, done.\u001b[K\n",
      "remote: Counting objects: 100% (7/7), done.\u001b[K\n",
      "remote: Compressing objects: 100% (7/7), done.\u001b[K\n",
      "remote: Total 2097 (delta 0), reused 4 (delta 0), pack-reused 2090\u001b[K\n",
      "Receiving objects: 100% (2097/2097), 237.14 MiB | 25.07 MiB/s, done.\n",
      "Resolving deltas: 100% (1242/1242), done.\n"
     ]
    }
   ],
   "source": [
    "if not os.path.exists(LABELIMG):\n",
    "    !mkdir {LABELIMG}\n",
    "    !git clone https://github.com/tzutalin/labelImg {LABELIMG}"
   ]
  },
  {
   "cell_type": "code",
   "execution_count": 8,
   "metadata": {
    "scrolled": true
   },
   "outputs": [
    {
     "name": "stdout",
     "output_type": "stream",
     "text": [
      "/Users/antonios/Desktop/Dissertation/Model/Scuba_Diving_Project/Tensorflow/labelimg\n",
      "Traceback (most recent call last):\n",
      "  File \"/Users/antonios/Desktop/Dissertation/Model/Scuba_Diving_Project/Tensorflow/labelimg/labelImg.py\", line 13, in <module>\n",
      "    from PyQt5.QtGui import *\n",
      "ModuleNotFoundError: No module named 'PyQt5'\n",
      "\n",
      "During handling of the above exception, another exception occurred:\n",
      "\n",
      "Traceback (most recent call last):\n",
      "  File \"/Users/antonios/Desktop/Dissertation/Model/Scuba_Diving_Project/Tensorflow/labelimg/labelImg.py\", line 22, in <module>\n",
      "    import sip\n",
      "ModuleNotFoundError: No module named 'sip'\n"
     ]
    }
   ],
   "source": [
    "if os.name == 'posix':\n",
    "    %cd {LABELIMG}\n",
    "    !python3 labelImg.py\n",
    "if os.name =='nt':\n",
    "    !cd {LABELIMG} && pyrcc5 -o libs/resources.py resources.qrc"
   ]
  },
  {
   "cell_type": "code",
   "execution_count": 9,
   "metadata": {},
   "outputs": [
    {
     "name": "stdout",
     "output_type": "stream",
     "text": [
      "zsh:cd:1: no such file or directory: Tensorflow/labelimg\r\n"
     ]
    }
   ],
   "source": [
    "!cd {LABELIMG} && python labelImg.py #Windows"
   ]
  },
  {
   "cell_type": "markdown",
   "metadata": {},
   "source": [
    "# 5. Move photos into a Training and Testing folders"
   ]
  },
  {
   "cell_type": "markdown",
   "metadata": {},
   "source": [
    "# 6. Google Colab Photos Compression"
   ]
  },
  {
   "cell_type": "code",
   "execution_count": null,
   "metadata": {},
   "outputs": [],
   "source": [
    "TRAIN = os.path.join('Tensorflow', 'model', 'photos', 'train')\n",
    "TEST = os.path.join('Tensorflow', 'model', 'photos', 'test')\n",
    "ARCHIVE = os.path.join('Tensorflow', 'model', 'photos', 'archive.tar.gz')"
   ]
  },
  {
   "cell_type": "code",
   "execution_count": null,
   "metadata": {},
   "outputs": [],
   "source": [
    "!tar -czf {ARCHIVE} {TRAIN} {TEST}"
   ]
  }
 ],
 "metadata": {
  "kernelspec": {
   "display_name": "scubadivingproject",
   "language": "python",
   "name": "scubadivingproject"
  },
  "language_info": {
   "codemirror_mode": {
    "name": "ipython",
    "version": 3
   },
   "file_extension": ".py",
   "mimetype": "text/x-python",
   "name": "python",
   "nbconvert_exporter": "python",
   "pygments_lexer": "ipython3",
   "version": "3.10.7"
  }
 },
 "nbformat": 4,
 "nbformat_minor": 2
}
